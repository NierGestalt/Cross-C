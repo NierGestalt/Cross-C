{
  "nbformat": 4,
  "nbformat_minor": 0,
  "metadata": {
    "colab": {
      "provenance": [],
      "authorship_tag": "ABX9TyNC0b8NzrmGxk+JVBWKB9Lr",
      "include_colab_link": true
    },
    "kernelspec": {
      "name": "python3",
      "display_name": "Python 3"
    },
    "language_info": {
      "name": "python"
    }
  },
  "cells": [
    {
      "cell_type": "markdown",
      "metadata": {
        "id": "view-in-github",
        "colab_type": "text"
      },
      "source": [
        "<a href=\"https://colab.research.google.com/github/NierGestalt/Cross-C/blob/master/App5.ipynb\" target=\"_parent\"><img src=\"https://colab.research.google.com/assets/colab-badge.svg\" alt=\"Open In Colab\"/></a>"
      ]
    },
    {
      "cell_type": "code",
      "source": [
        "import streamlit as st\n",
        "\n",
        "# Title of the app\n",
        "st.title('Personal Information Form')\n",
        "\n",
        "# Ask for the user's name\n",
        "name = st.text_input(\"What's your name?\")\n",
        "\n",
        "# Display the user's name\n",
        "if name:\n",
        "    st.write(f\"Hello, {name}!\")\n",
        "\n",
        "    # Ask for the user's age and country once the name is entered\n",
        "    age = st.number_input(\"How old are you?\", min_value=0, max_value=120, step=1)\n",
        "    country = st.text_input(\"Which country are you from?\")\n",
        "\n",
        "    # Display the age and country if entered\n",
        "    if age >= 0 and country:\n",
        "        st.write(f\"Nice to meet you, {name}!\")\n",
        "        st.write(f\"You're {age} years old and you're from {country}.\")\n"
      ],
      "metadata": {
        "colab": {
          "base_uri": "https://localhost:8080/"
        },
        "id": "dL7WLHLZ6jTC",
        "outputId": "ab7566e6-e926-4dc8-e8ef-e459cda5c7df"
      },
      "execution_count": 5,
      "outputs": [
        {
          "output_type": "stream",
          "name": "stderr",
          "text": [
            "2024-10-15 20:41:40.637 WARNING streamlit.runtime.scriptrunner_utils.script_run_context: Thread 'MainThread': missing ScriptRunContext! This warning can be ignored when running in bare mode.\n",
            "2024-10-15 20:41:40.785 \n",
            "  \u001b[33m\u001b[1mWarning:\u001b[0m to view this Streamlit app on a browser, run it with the following\n",
            "  command:\n",
            "\n",
            "    streamlit run /usr/local/lib/python3.10/dist-packages/colab_kernel_launcher.py [ARGUMENTS]\n",
            "2024-10-15 20:41:40.788 Thread 'MainThread': missing ScriptRunContext! This warning can be ignored when running in bare mode.\n",
            "2024-10-15 20:41:40.794 Thread 'MainThread': missing ScriptRunContext! This warning can be ignored when running in bare mode.\n",
            "2024-10-15 20:41:40.798 Thread 'MainThread': missing ScriptRunContext! This warning can be ignored when running in bare mode.\n",
            "2024-10-15 20:41:40.803 Thread 'MainThread': missing ScriptRunContext! This warning can be ignored when running in bare mode.\n",
            "2024-10-15 20:41:40.805 Thread 'MainThread': missing ScriptRunContext! This warning can be ignored when running in bare mode.\n",
            "2024-10-15 20:41:40.807 Session state does not function when running a script without `streamlit run`\n",
            "2024-10-15 20:41:40.808 Thread 'MainThread': missing ScriptRunContext! This warning can be ignored when running in bare mode.\n",
            "2024-10-15 20:41:40.815 Thread 'MainThread': missing ScriptRunContext! This warning can be ignored when running in bare mode.\n"
          ]
        }
      ]
    }
  ]
}